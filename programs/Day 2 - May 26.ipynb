{
 "cells": [
  {
   "cell_type": "markdown",
   "metadata": {},
   "source": [
    "# Artificial Intelligence & Machine Learning\n",
    "## Day :2\n",
    "## Date : 26-May-2019"
   ]
  },
  {
   "cell_type": "markdown",
   "metadata": {},
   "source": [
    "### Day outcome:\n",
    "1. Data Analysis of Mobile apps data"
   ]
  },
  {
   "cell_type": "markdown",
   "metadata": {},
   "source": [
    "### Problem 1\n",
    "#### Problem statement:\n",
    "* Compute the total number of unique apps from the dataset\n"
   ]
  },
  {
   "cell_type": "code",
   "execution_count": 35,
   "metadata": {},
   "outputs": [
    {
     "name": "stdout",
     "output_type": "stream",
     "text": [
      "Apps = 7197\n",
      "Unique_Apps = 7195\n"
     ]
    }
   ],
   "source": [
    "import pandas as pd\n",
    "def UniqueApps(AppData):\n",
    "    df = pd.read_csv(AppData)\n",
    "Apps=[]\n",
    "Unique_Apps=[]\n",
    "for i in df.values:\n",
    "    Apps.append(i[2])\n",
    "print('Apps =',len(Apps))\n",
    "Unique_Apps=set(Apps)\n",
    "print('Unique_Apps =',len(Unique_Apps))\n",
    "\n",
    "    \n",
    "UniqueApps('Datafiles/AppleStore.csv')\n"
   ]
  },
  {
   "cell_type": "markdown",
   "metadata": {},
   "source": [
    "### Problem 2\n",
    "#### Problem statement:\n",
    "* Print the Top 10 apps along with their rating based on the number of downloads(rating_count_tot)"
   ]
  },
  {
   "cell_type": "code",
   "execution_count": 75,
   "metadata": {},
   "outputs": [
    {
     "name": "stdout",
     "output_type": "stream",
     "text": [
      "Facebook = 3.5\n",
      "Instagram = 4.0\n",
      "Clash of Clans = 4.5\n",
      "Temple Run = 4.0\n",
      "Pandora - Music & Radio = 4.5\n",
      "Pinterest = 4.0\n",
      "Bible = 5.0\n",
      "Candy Crush Saga = 4.5\n",
      "Spotify Music = 4.5\n",
      "Angry Birds = 3.0\n"
     ]
    }
   ],
   "source": [
    "import pandas as pd\n",
    "def ToptenDownloads(AppData):\n",
    "    df = pd.read_csv(AppData)\n",
    "Rating_Count_tot=[]\n",
    "genre=[]\n",
    "Top_ten=[]\n",
    "for i in df.values:\n",
    "    genre.append(i[12])\n",
    "    Rating_Count_tot.append(i[6])\n",
    "Rating_Count_tot.sort(reverse= True)\n",
    "for j in range(0,10):\n",
    "    Top_ten.append(Rating_Count_tot[j])\n",
    "for i in range(0,len(Top_ten)):  \n",
    "    for j in range(0,len(genre)):\n",
    "        if df.iat[j,6]==Top_ten[i]:\n",
    "            print(df.iat[j,2],'=',df.iat[j,9])\n",
    "            \n",
    "\n",
    "ToptenDownloads('Datafiles/AppleStore.csv')    \n",
    "    "
   ]
  },
  {
   "cell_type": "markdown",
   "metadata": {},
   "source": [
    "### Problem 3\n",
    "#### Problem statement:\n",
    "* Categorise the dataset based on content rating into the following\n",
    "        Number of apps with content rating 4+\n",
    "        Number of apps with content rating 9+\n",
    "        Number of apps with content rating 12+\n",
    "        Number of apps with content rating 17+\n"
   ]
  },
  {
   "cell_type": "code",
   "execution_count": 53,
   "metadata": {},
   "outputs": [
    {
     "name": "stdout",
     "output_type": "stream",
     "text": [
      "Number of apps with content rating 4+ =  4433\n",
      "Number of apps with content rating 9+ =  987\n",
      "Number of apps with content rating 12+ =  1155\n",
      "Number of apps with content rating 17+ =  622\n"
     ]
    }
   ],
   "source": [
    "import pandas as pd\n",
    "import numpy as np\n",
    "def Content_Rating(AppData):\n",
    "    df = pd.read_csv(AppData)\n",
    "genre=[]\n",
    "Four_Plus=[]\n",
    "Nine_Plus=[]\n",
    "Twelve_Plus=[]\n",
    "Seventeen_Plus=[]\n",
    "for i in df.values:\n",
    "    genre.append(i[12])\n",
    "for i in range(0,len(genre)):\n",
    "    if (df.iat[i,11] == '4+'):\n",
    "        Four_Plus.append(df.iat[i,2])\n",
    "    if (df.iat[i,11] == '9+'):\n",
    "        Nine_Plus.append(df.iat[i,2])\n",
    "    if (df.iat[i,11] == '12+'):\n",
    "        Twelve_Plus.append(df.iat[i,2])\n",
    "    if (df.iat[i,11] == '17+'):\n",
    "        Seventeen_Plus.append(df.iat[i,2])\n",
    "a=len(Four_Plus)\n",
    "b=len(Nine_Plus)\n",
    "c=len(Twelve_Plus)\n",
    "d=len(Seventeen_Plus)\n",
    "\n",
    "print('Number of apps with content rating 4+ = ',a)\n",
    "print('Number of apps with content rating 9+ = ',b)\n",
    "print('Number of apps with content rating 12+ = ',c)\n",
    "print('Number of apps with content rating 17+ = ',d)\n",
    "Content_Rating('Datafiles/AppleStore.csv')        "
   ]
  }
 ],
 "metadata": {
  "kernelspec": {
   "display_name": "Python 3",
   "language": "python",
   "name": "python3"
  },
  "language_info": {
   "codemirror_mode": {
    "name": "ipython",
    "version": 3
   },
   "file_extension": ".py",
   "mimetype": "text/x-python",
   "name": "python",
   "nbconvert_exporter": "python",
   "pygments_lexer": "ipython3",
   "version": "3.7.3"
  }
 },
 "nbformat": 4,
 "nbformat_minor": 2
}
