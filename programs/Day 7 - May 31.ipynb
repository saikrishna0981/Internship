{
 "cells": [
  {
   "cell_type": "markdown",
   "metadata": {},
   "source": [
    "# Artificial Intelligence & Machine Learning\n",
    "## Day : 7\n",
    "## Date : 31-May-2019\n"
   ]
  },
  {
   "cell_type": "markdown",
   "metadata": {},
   "source": [
    "### Problem 1\n",
    "#### Problem statement:\n",
    "* How many runs of  Dhoni  On 4/23/2008  Chennai Super Kings vs Mumbai Indians Match ( Use Oops concepts)\n",
    "  Datasets: \n",
    "  Match.csv => Match details (match id , teams, location etc) \n",
    "\tPlayer.csv => Player Details (player id, name,team name, etc)\n",
    "\tBall_By_Ball => Ball to ball details (match id , striker, runs, over id, ball id etc)\n"
   ]
  },
  {
   "cell_type": "code",
   "execution_count": 1,
   "metadata": {},
   "outputs": [
    {
     "name": "stdout",
     "output_type": "stream",
     "text": [
      "43\n"
     ]
    }
   ],
   "source": [
    "import pandas as pd\n",
    "import numpy as np\n",
    "import matplotlib.pyplot as plt\n",
    "class csk_vs_mi():\n",
    "    df=pd.read_csv('DataFiles/Match.csv')\n",
    "    Teams=[]\n",
    "    Data={}\n",
    "    for i in df.values:\n",
    "        Teams.append(i[2])  \n",
    "    for i in range (0,len(Teams)):\n",
    "        if df.iat[i,4]== '4/26/2008':\n",
    "            match_id=df.iat[i,1]\n",
    "    df1=pd.read_csv('DataFiles/Player_match.csv')\n",
    "    matches_id,Players,Player_match_SK=[],[],[]\n",
    "    for i in df1.values:\n",
    "        matches_id.append(i[1])\n",
    "    for j in range (0,len(matches_id)):\n",
    "        if df1.iat[j,2]==match_id and df1.iat[j,10]=='Chennai Super Kings':\n",
    "            Players.append(df1.iat[j,4])\n",
    "            Player_match_SK.append(df1.iat[j,0])\n",
    "    for i in range (0,len(Players)):\n",
    "        Data[str(Players[i])]=Player_match_SK[i]\n",
    "    df2=pd.read_csv('DataFiles/Ball_By_Ball.csv')\n",
    "    Runs_Scored,Ball_id=[],[]\n",
    "    for j in df2.values:\n",
    "        Ball_id.append(j[2]) \n",
    "    a=0\n",
    "    for i in range (0,len(Ball_id)):\n",
    "        if df2.iat[i,34]==Data['MS Dhoni']:\n",
    "                a=a + df2.iat[i,8]\n",
    "    print(a)\n",
    "obj=csk_vs_mi()\n"
   ]
  },
  {
   "cell_type": "markdown",
   "metadata": {},
   "source": [
    "### Problem 2\n",
    "#### Problem statement:\n",
    "* 4/23/2008  Chennai Super Kings vs Mumbai Indians Match\n",
    "  Plot a bar graph for all the players in the   Mumbai Indians  team"
   ]
  },
  {
   "cell_type": "code",
   "execution_count": 2,
   "metadata": {},
   "outputs": [
    {
     "data": {
      "image/png": "[encoded data removed]",
      "text/plain": [
       "<Figure size 432x288 with 1 Axes>"
      ]
     },
     "metadata": {
      "needs_background": "light"
     },
     "output_type": "display_data"
    }
   ],
   "source": [
    "import pandas as pd\n",
    "import numpy as np\n",
    "import matplotlib.pyplot as plt\n",
    "class csk_vs_mi():\n",
    "    df=pd.read_csv('DataFiles/Match.csv')\n",
    "    Teams=[]\n",
    "    for i in df.values:\n",
    "        Teams.append(i[2])  \n",
    "    for i in range (0,len(Teams)):\n",
    "        if df.iat[i,4]== '4/23/2008':\n",
    "            match_id=df.iat[i,1]\n",
    "    df1=pd.read_csv('DataFiles/Player_match.csv')\n",
    "    matches_id,Players,Player_match_SK=[],[],[]\n",
    "    for i in df1.values:\n",
    "        matches_id.append(i[1])\n",
    "    for j in range (0,len(matches_id)):\n",
    "        if df1.iat[j,2]==match_id and df1.iat[j,10]=='Mumbai Indians':\n",
    "            Players.append(df1.iat[j,4])\n",
    "            Player_match_SK.append(df1.iat[j,0])\n",
    "    df2=pd.read_csv('DataFiles/Ball_By_Ball.csv')\n",
    "    Runs_Scored,Ball_id=[],[]\n",
    "    for j in df2.values:\n",
    "           Ball_id.append(i[2]) \n",
    "    for k in range(0,len(Player_match_SK)):\n",
    "        a=0\n",
    "        for i in range (0,len(Ball_id)):\n",
    "            if df2.iat[i,34]==Player_match_SK[k]:\n",
    "                a=a + df2.iat[i,8]\n",
    "        Runs_Scored.append(a)\n",
    "    width=1/3\n",
    "    plt.bar(Players,Runs_Scored,width,color='green')\n",
    "    plt.xticks(Players,Fontsize=15,rotation=270)\n",
    "obj=csk_vs_mi()\n",
    "\n",
    "        \n"
   ]
  },
  {
   "cell_type": "code",
   "execution_count": null,
   "metadata": {},
   "outputs": [],
   "source": []
  }
 ],
 "metadata": {
  "kernelspec": {
   "display_name": "Python 3",
   "language": "python",
   "name": "python3"
  },
  "language_info": {
   "codemirror_mode": {
    "name": "ipython",
    "version": 3
   },
   "file_extension": ".py",
   "mimetype": "text/x-python",
   "name": "python",
   "nbconvert_exporter": "python",
   "pygments_lexer": "ipython3",
   "version": "3.7.3"
  }
 },
 "nbformat": 4,
 "nbformat_minor": 2
}
