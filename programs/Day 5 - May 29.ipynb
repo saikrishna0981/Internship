{
 "cells": [
  {
   "cell_type": "markdown",
   "metadata": {},
   "source": [
    "# DAY - 5\n",
    "# Date - 29th May 2019"
   ]
  },
  {
   "cell_type": "code",
   "execution_count": 1,
   "metadata": {},
   "outputs": [
    {
     "name": "stdout",
     "output_type": "stream",
     "text": [
      "<class 'dict'>\n"
     ]
    }
   ],
   "source": [
    "l={'1':12}\n",
    "print(type(l))"
   ]
  },
  {
   "cell_type": "code",
   "execution_count": 2,
   "metadata": {},
   "outputs": [
    {
     "name": "stdout",
     "output_type": "stream",
     "text": [
      "<class 'int'>\n"
     ]
    }
   ],
   "source": [
    "a=6\n",
    "print(type(a))"
   ]
  },
  {
   "cell_type": "markdown",
   "metadata": {},
   "source": [
    "### Instantiating a Class"
   ]
  },
  {
   "cell_type": "code",
   "execution_count": 1,
   "metadata": {},
   "outputs": [
    {
     "name": "stdout",
     "output_type": "stream",
     "text": [
      "<class '__main__.new_list'>\n"
     ]
    }
   ],
   "source": [
    "class new_list():\n",
    "    pass #create a placeholder for a function that you will build out later without causing your code to error.\n",
    "\n",
    "newlist_1 = new_list()\n",
    "print(type(newlist_1))"
   ]
  },
  {
   "cell_type": "markdown",
   "metadata": {},
   "source": [
    "### Creating Methods"
   ]
  },
  {
   "cell_type": "code",
   "execution_count": 7,
   "metadata": {},
   "outputs": [
    {
     "name": "stdout",
     "output_type": "stream",
     "text": [
      "Hello!\n",
      "This is my infinite method\n",
      "64\n"
     ]
    }
   ],
   "source": [
    "class NewList():\n",
    "    print('Hello!')\n",
    "    def first_method():\n",
    "        return \"This is my infinite method\"\n",
    "    def square(n):\n",
    "        return n*n\n",
    "newlist=NewList\n",
    "print(newlist.first_method())\n",
    "print(newlist.square(8))"
   ]
  },
  {
   "cell_type": "markdown",
   "metadata": {},
   "source": [
    "### Creating a method that accepts an Argument"
   ]
  },
  {
   "cell_type": "code",
   "execution_count": 26,
   "metadata": {},
   "outputs": [
    {
     "data": {
      "text/plain": [
       "'Hey there!'"
      ]
     },
     "execution_count": 26,
     "metadata": {},
     "output_type": "execute_result"
    }
   ],
   "source": [
    "class l():\n",
    "    def return_string(self, string):\n",
    "        return string\n",
    "mc = l()\n",
    "mc.return_string(\"Hey there!\")"
   ]
  },
  {
   "cell_type": "code",
   "execution_count": 30,
   "metadata": {
    "scrolled": true
   },
   "outputs": [
    {
     "data": {
      "text/plain": [
       "'[1,2,3,4]'"
      ]
     },
     "execution_count": 30,
     "metadata": {},
     "output_type": "execute_result"
    }
   ],
   "source": [
    "class NewList():\n",
    "    def first_method(self,list1):\n",
    "        return list1\n",
    "    \n",
    "newlist = NewList()\n",
    "newlist.first_method(\"[1,2,3,4]\") "
   ]
  },
  {
   "cell_type": "code",
   "execution_count": 1,
   "metadata": {},
   "outputs": [
    {
     "data": {
      "text/plain": [
       "'sai krishna'"
      ]
     },
     "execution_count": 1,
     "metadata": {},
     "output_type": "execute_result"
    }
   ],
   "source": [
    "class NewList():\n",
    "    def first_method(self):\n",
    "        return \"sai krishna\"\n",
    "    pass\n",
    "\n",
    "newlist_1=NewList()    \n",
    "newlist_1.first_method()"
   ]
  },
  {
   "cell_type": "markdown",
   "metadata": {},
   "source": [
    "### Attributes and the Init Method"
   ]
  },
  {
   "cell_type": "code",
   "execution_count": 9,
   "metadata": {},
   "outputs": [
    {
     "name": "stdout",
     "output_type": "stream",
     "text": [
      "mvnbiurefv\n"
     ]
    }
   ],
   "source": [
    "class MyClass():\n",
    "    def __init__(self,string):\n",
    "        print(string) \n",
    "mc=MyClass(\"mvnbiurefv\")"
   ]
  },
  {
   "cell_type": "code",
   "execution_count": 11,
   "metadata": {},
   "outputs": [
    {
     "data": {
      "text/plain": [
       "'hiufvhjdfwfkvjb'"
      ]
     },
     "execution_count": 11,
     "metadata": {},
     "output_type": "execute_result"
    }
   ],
   "source": [
    "class MyClass():\n",
    "    def __init__(self,string):\n",
    "        self.my_attribute=string \n",
    "mc=MyClass(\"hiufvhjdfwfkvjb\")\n",
    "mc.my_attribute"
   ]
  }
 ],
 "metadata": {
  "kernelspec": {
   "display_name": "Python 3",
   "language": "python",
   "name": "python3"
  },
  "language_info": {
   "codemirror_mode": {
    "name": "ipython",
    "version": 3
   },
   "file_extension": ".py",
   "mimetype": "text/x-python",
   "name": "python",
   "nbconvert_exporter": "python",
   "pygments_lexer": "ipython3",
   "version": "3.7.3"
  }
 },
 "nbformat": 4,
 "nbformat_minor": 2
}
